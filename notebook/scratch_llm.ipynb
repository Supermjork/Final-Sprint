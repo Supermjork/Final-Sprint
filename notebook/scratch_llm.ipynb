{
 "cells": [
  {
   "cell_type": "markdown",
   "metadata": {},
   "source": [
    "# LLM From Scratch\n",
    "#### (By: Mark Ehab Aziz)\n",
    "##### (Built under Python 3.11.4)\n",
    "\n",
    "Graduation Project for ***Sprints***, to build a LLM (Large Language Model) from scratch without the use of any NN (Neural Network) or Transformer related libraries.\n",
    "\n",
    "Implementation will include:\n",
    "- Own Transformer from scratch\n",
    "\n",
    "Note: NLTK will be used later for tokenization using RegEx."
   ]
  },
  {
   "cell_type": "markdown",
   "metadata": {},
   "source": [
    "# Library Imports\n",
    "Importing libraries that will be used in order to implement our own LLM."
   ]
  },
  {
   "cell_type": "code",
   "execution_count": 1,
   "metadata": {},
   "outputs": [],
   "source": [
    "import pandas as pd                             # Pandas for DataFrame manipulation\n",
    "import numpy as np                              # Linear Algebra and Mathematical Operations\n",
    "import nltk                                     # Downloading word sets\n",
    "from nltk.stem import SnowballStemmer           # Stemming\n",
    "from nltk.stem import WordNetLemmatizer         # Lemmatization (Better word yields)\n",
    "from nltk.corpus import stopwords               # Stopwords\n",
    "from nltk.tokenize import regexp_tokenize       # Tokenization using RegEx (Regular Expressions)"
   ]
  },
  {
   "cell_type": "code",
   "execution_count": null,
   "metadata": {},
   "outputs": [],
   "source": [
    "# Downloading external dependencies to be used\n",
    "# Such as Stopwords, English-only words\n",
    "\n",
    "# Stopwords\n",
    "nltk.download('stopwords')\n",
    "\n",
    "# English Only\n",
    "nltk.download('words')\n",
    "\n",
    "# Setting constants for both normal and stopwords in English\n",
    "ENGLISH_STOPWORDS = set(stopwords.words('english'))\n",
    "ENGLISH_WORDS = set(nltk.corpus.words.words())"
   ]
  },
  {
   "cell_type": "markdown",
   "metadata": {},
   "source": [
    "# All About Data"
   ]
  },
  {
   "cell_type": "markdown",
   "metadata": {},
   "source": [
    "## Data Import"
   ]
  },
  {
   "cell_type": "code",
   "execution_count": null,
   "metadata": {},
   "outputs": [],
   "source": [
    "# pd readcsv"
   ]
  },
  {
   "cell_type": "markdown",
   "metadata": {},
   "source": [
    "## Data Exploration"
   ]
  },
  {
   "cell_type": "code",
   "execution_count": null,
   "metadata": {},
   "outputs": [],
   "source": [
    "# df head and stuff"
   ]
  },
  {
   "cell_type": "markdown",
   "metadata": {},
   "source": [
    "## Defining What To Clean\n",
    "remove newlines, tabs, etc\n",
    "\n",
    "remove urls\n",
    "\n",
    "remove IPs\n",
    "\n",
    "remove special characters\n",
    "\n",
    "remove non-english words\n",
    "\n",
    "remove stopwords obvs\n",
    "\n",
    "die"
   ]
  },
  {
   "cell_type": "code",
   "execution_count": null,
   "metadata": {},
   "outputs": [],
   "source": []
  },
  {
   "cell_type": "markdown",
   "metadata": {},
   "source": [
    "### Regex Patterns"
   ]
  },
  {
   "cell_type": "markdown",
   "metadata": {},
   "source": [
    "## Functions and such\n",
    "mOdUlArItY"
   ]
  },
  {
   "cell_type": "markdown",
   "metadata": {},
   "source": [
    "# Transformer?"
   ]
  }
 ],
 "metadata": {
  "kernelspec": {
   "display_name": "Python 3",
   "language": "python",
   "name": "python3"
  },
  "language_info": {
   "codemirror_mode": {
    "name": "ipython",
    "version": 3
   },
   "file_extension": ".py",
   "mimetype": "text/x-python",
   "name": "python",
   "nbconvert_exporter": "python",
   "pygments_lexer": "ipython3",
   "version": "3.11.4"
  },
  "orig_nbformat": 4
 },
 "nbformat": 4,
 "nbformat_minor": 2
}
